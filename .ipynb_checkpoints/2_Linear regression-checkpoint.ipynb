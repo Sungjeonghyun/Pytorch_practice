{
 "cells": [
  {
   "cell_type": "code",
   "execution_count": 1,
   "id": "1384b365",
   "metadata": {},
   "outputs": [],
   "source": [
    "import torch\n",
    "from torch import optim"
   ]
  },
  {
   "cell_type": "code",
   "execution_count": 2,
   "id": "00413a28",
   "metadata": {},
   "outputs": [],
   "source": [
    "x_train = torch.FloatTensor([[1], [2], [3]])\n",
    "y_train = torch.FloatTensor([[2], [4], [6]])"
   ]
  },
  {
   "cell_type": "code",
   "execution_count": 3,
   "id": "cf1c1c7e",
   "metadata": {},
   "outputs": [],
   "source": [
    "W = torch.zeros(1, requires_grad=True) # 0 으로 초기화, requires_grad=True : 학습할 것이라고 명시\n",
    "b = torch.zeros(1, requires_grad=True)\n",
    "hypothesis = x_train * W + b"
   ]
  },
  {
   "cell_type": "code",
   "execution_count": 4,
   "id": "52310044",
   "metadata": {},
   "outputs": [],
   "source": [
    "# Loss Fucntion\n",
    "cost = torch.mean((hypothesis - y_train) ** 2)"
   ]
  },
  {
   "cell_type": "code",
   "execution_count": 5,
   "id": "2a7155d6",
   "metadata": {},
   "outputs": [],
   "source": [
    "optimizer = optim.SGD([W, b], lr=0.01) # W, b : 학습할 텐서들, lr = Learning rate\n",
    "\n",
    "# 항상 붙어다니는 3줄\n",
    "optimizer.zero_grad() # gradient 초기화\n",
    "cost.backward() # gradient 계산\n",
    "optimizer.step() # 개선"
   ]
  },
  {
   "cell_type": "code",
   "execution_count": 6,
   "id": "a7160628",
   "metadata": {},
   "outputs": [
    {
     "data": {
      "text/plain": [
       "SGD (\n",
       "Parameter Group 0\n",
       "    dampening: 0\n",
       "    differentiable: False\n",
       "    foreach: None\n",
       "    lr: 0.01\n",
       "    maximize: False\n",
       "    momentum: 0\n",
       "    nesterov: False\n",
       "    weight_decay: 0\n",
       ")"
      ]
     },
     "execution_count": 6,
     "metadata": {},
     "output_type": "execute_result"
    }
   ],
   "source": [
    "optimizer"
   ]
  },
  {
   "cell_type": "markdown",
   "id": "862a3cd8",
   "metadata": {},
   "source": [
    "### 위 과정을 학습을 위한 코드로 재 작성"
   ]
  },
  {
   "cell_type": "code",
   "execution_count": 7,
   "id": "a3a83db7",
   "metadata": {},
   "outputs": [
    {
     "name": "stdout",
     "output_type": "stream",
     "text": [
      "Epoch    0/10 W : 0.000, Cost: 4.666667\n",
      "Epoch    1/10 W : 1.400, Cost: 0.746666\n",
      "Epoch    2/10 W : 0.840, Cost: 0.119467\n",
      "Epoch    3/10 W : 1.064, Cost: 0.019115\n",
      "Epoch    4/10 W : 0.974, Cost: 0.003058\n",
      "Epoch    5/10 W : 1.010, Cost: 0.000489\n",
      "Epoch    6/10 W : 0.996, Cost: 0.000078\n",
      "Epoch    7/10 W : 1.002, Cost: 0.000013\n",
      "Epoch    8/10 W : 0.999, Cost: 0.000002\n",
      "Epoch    9/10 W : 1.000, Cost: 0.000000\n",
      "Epoch   10/10 W : 1.000, Cost: 0.000000\n"
     ]
    }
   ],
   "source": [
    "# 데이터\n",
    "x_train = torch.FloatTensor([[1], [2], [3]])\n",
    "y_train = torch.FloatTensor([[1], [2], [3]])\n",
    "\n",
    "# 모델 초기화\n",
    "W = torch.zeros(1)\n",
    "\n",
    "# learning rate\n",
    "lr = 0.1\n",
    "\n",
    "nb_epochs = 10\n",
    "for epoch in range(nb_epochs + 1):\n",
    "    \n",
    "    # H(x)\n",
    "    hypothesis = x_train * W\n",
    "    \n",
    "    # cost, gradient\n",
    "    cost = torch.mean((hypothesis - y_train) ** 2)\n",
    "    gradient = torch.sum((W * x_train - y_train) * x_train)\n",
    "    \n",
    "    print('Epoch {:4d}/{} W : {:.3f}, Cost: {:.6f}'.format(\n",
    "        epoch, nb_epochs, W.item(), cost.item()\n",
    "    ))\n",
    "    \n",
    "    # 개선\n",
    "    W -= lr * gradient"
   ]
  },
  {
   "cell_type": "markdown",
   "id": "9d85ca1e",
   "metadata": {},
   "source": [
    "## Optimizer Sigmoid"
   ]
  },
  {
   "cell_type": "code",
   "execution_count": 8,
   "id": "29a6417c",
   "metadata": {},
   "outputs": [
    {
     "name": "stdout",
     "output_type": "stream",
     "text": [
      "Epoch    0/10 W : 0.000, Cost: 4.666667\n",
      "Epoch    1/10 W : 1.400, Cost: 0.746667\n",
      "Epoch    2/10 W : 0.840, Cost: 0.119467\n",
      "Epoch    3/10 W : 1.064, Cost: 0.019115\n",
      "Epoch    4/10 W : 0.974, Cost: 0.003058\n",
      "Epoch    5/10 W : 1.010, Cost: 0.000489\n",
      "Epoch    6/10 W : 0.996, Cost: 0.000078\n",
      "Epoch    7/10 W : 1.002, Cost: 0.000013\n",
      "Epoch    8/10 W : 0.999, Cost: 0.000002\n",
      "Epoch    9/10 W : 1.000, Cost: 0.000000\n",
      "Epoch   10/10 W : 1.000, Cost: 0.000000\n"
     ]
    }
   ],
   "source": [
    "# 데이터\n",
    "x_train = torch.FloatTensor([[1], [2], [3]])\n",
    "y_train = torch.FloatTensor([[1], [2], [3]])\n",
    "\n",
    "# 모델 초기화\n",
    "W = torch.zeros(1, requires_grad=True)\n",
    "\n",
    "# learning rate\n",
    "optimizer = optim.SGD([W], lr=0.15)\n",
    "\n",
    "nb_epochs = 10\n",
    "for epoch in range(nb_epochs + 1):\n",
    "    \n",
    "    # H(x)\n",
    "    hypothesis = x_train * W\n",
    "    \n",
    "    # cost, gradient\n",
    "    cost = torch.mean((hypothesis - y_train) ** 2)\n",
    "    gradient = torch.sum((W * x_train - y_train) * x_train)\n",
    "    \n",
    "    print('Epoch {:4d}/{} W : {:.3f}, Cost: {:.6f}'.format(\n",
    "        epoch, nb_epochs, W.item(), cost.item()\n",
    "    ))\n",
    "    \n",
    "    # 개선\n",
    "    optimizer.zero_grad()\n",
    "    cost.backward()\n",
    "    optimizer.step()"
   ]
  },
  {
   "cell_type": "code",
   "execution_count": null,
   "id": "24e6720c",
   "metadata": {},
   "outputs": [],
   "source": []
  }
 ],
 "metadata": {
  "kernelspec": {
   "display_name": "Python 3 (ipykernel)",
   "language": "python",
   "name": "python3"
  },
  "language_info": {
   "codemirror_mode": {
    "name": "ipython",
    "version": 3
   },
   "file_extension": ".py",
   "mimetype": "text/x-python",
   "name": "python",
   "nbconvert_exporter": "python",
   "pygments_lexer": "ipython3",
   "version": "3.9.12"
  }
 },
 "nbformat": 4,
 "nbformat_minor": 5
}
