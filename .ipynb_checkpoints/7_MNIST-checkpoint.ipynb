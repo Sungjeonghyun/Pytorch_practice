{
 "cells": [
  {
   "cell_type": "markdown",
   "id": "5b1d2f61",
   "metadata": {},
   "source": [
    "* MNIST는 28 x 28 크기의 이미지. 1개 채널의 흑백이미지. 0~9의 숫자를 표현"
   ]
  },
  {
   "cell_type": "code",
   "execution_count": 1,
   "id": "40ad7880",
   "metadata": {},
   "outputs": [],
   "source": [
    "import warnings\n",
    "warnings.filterwarnings('ignore')\n",
    "\n",
    "import torchvision\n",
    "import torchvision.datasets as dsets\n",
    "\n",
    "import torch\n",
    "import torch.nn as nn\n",
    "import torch.nn.functional as F\n",
    "import torch.optim as optim\n",
    "\n",
    "import matplotlib.pyplot as plt\n",
    "import random\n",
    "\n",
    "torch.manual_seed(1)\n",
    "device = 'cuda' if torch.cuda.is_available() else 'cpu'"
   ]
  },
  {
   "cell_type": "code",
   "execution_count": 2,
   "id": "76d2fc09",
   "metadata": {},
   "outputs": [],
   "source": [
    "mnist_train = dsets.MNIST(root=\"MNIST_data/\", train=True, transform=torchvision.transforms.ToTensor(), \n",
    "                         download=True) # train=True : train set\n",
    "mnist_test = dsets.MNIST(root=\"MNIST_data/\", train=False, transform=torchvision.transforms.ToTensor(), \n",
    "                         download=True) # transform.ToTensor : 이미지를 pytorch에 최적화"
   ]
  },
  {
   "cell_type": "markdown",
   "id": "44b1b32f",
   "metadata": {},
   "source": [
    "## Softmax"
   ]
  },
  {
   "cell_type": "code",
   "execution_count": 3,
   "id": "33a50f05",
   "metadata": {},
   "outputs": [
    {
     "name": "stdout",
     "output_type": "stream",
     "text": [
      "Epoch:  0001 cost = 0.533756435\n",
      "Epoch:  0002 cost = 0.359071344\n",
      "Epoch:  0003 cost = 0.330853909\n",
      "Epoch:  0004 cost = 0.316269368\n",
      "Epoch:  0005 cost = 0.306897253\n",
      "Epoch:  0006 cost = 0.299754918\n",
      "Epoch:  0007 cost = 0.295043945\n",
      "Epoch:  0008 cost = 0.290703654\n",
      "Epoch:  0009 cost = 0.287395447\n",
      "Epoch:  0010 cost = 0.284370959\n",
      "Epoch:  0011 cost = 0.281917304\n",
      "Epoch:  0012 cost = 0.279720306\n",
      "Epoch:  0013 cost = 0.277781814\n",
      "Epoch:  0014 cost = 0.275830269\n",
      "Epoch:  0015 cost = 0.274402380\n"
     ]
    }
   ],
   "source": [
    "linear = torch.nn.Linear(784, 10, bias=True).to(device) # 784 : 28*28, 10 : 0~9\n",
    "\n",
    "training_epochs = 15\n",
    "batch_size = 100\n",
    "\n",
    "criterion = torch.nn.CrossEntropyLoss().to(device) # CrossEntropyLoss 는 Softmax를 자동으로 연산해줌\n",
    "optimizer = torch.optim.SGD(linear.parameters(), lr=0.1)\n",
    "\n",
    "data_loader = torch.utils.data.DataLoader(mnist_train, batch_size=batch_size, shuffle=True, drop_last=True)\n",
    "# drop_last : batch_size만큼 불러오다 마지막에 batch_size보다 작은 수만큼 남으면 사용할지 여부. true : 버림\n",
    "\n",
    "for epoch in range(training_epochs): # 15번 반복 학습\n",
    "    avg_cost = 0\n",
    "    total_batch = len(data_loader)\n",
    "    \n",
    "    for X, Y in data_loader:\n",
    "        X = X.view(-1, 28 * 28).to(device) # reshape\n",
    "        optimizer.zero_grad()\n",
    "        \n",
    "        hypothesis = linear(X) # prediction\n",
    "        \n",
    "        cost = criterion(hypothesis, Y) # CrossEntropy\n",
    "        cost.backward() # Gradient 도출\n",
    "        \n",
    "        optimizer.step() # update\n",
    "        avg_cost += cost / total_batch\n",
    "    print(\"Epoch: \", \"%04d\" % (epoch+1), \"cost =\", \"{:.9f}\".format(avg_cost))"
   ]
  },
  {
   "cell_type": "markdown",
   "id": "9b1da4cd",
   "metadata": {},
   "source": [
    "## Test"
   ]
  },
  {
   "cell_type": "code",
   "execution_count": 4,
   "id": "cbd65c33",
   "metadata": {},
   "outputs": [
    {
     "name": "stdout",
     "output_type": "stream",
     "text": [
      "Accuracy:  0.8838000297546387\n"
     ]
    }
   ],
   "source": [
    "with torch.no_grad():\n",
    "    X_test = mnist_test.test_data.view(-1, 28 * 28).float().to(device)\n",
    "    Y_test = mnist_test.test_labels.to(device)\n",
    "    \n",
    "    prediction = linear(X_test)\n",
    "    correct_prediction = torch.argmax(prediction, 1) == Y_test\n",
    "    accuracy = correct_prediction.float().mean()\n",
    "    print(\"Accuracy: \", accuracy.item())"
   ]
  },
  {
   "cell_type": "markdown",
   "id": "001b6b6c",
   "metadata": {},
   "source": [
    "## Visualization"
   ]
  },
  {
   "cell_type": "code",
   "execution_count": 5,
   "id": "a45719ee",
   "metadata": {},
   "outputs": [
    {
     "name": "stdout",
     "output_type": "stream",
     "text": [
      "Label:  2\n",
      "Prediction:  2\n"
     ]
    },
    {
     "data": {
      "image/png": "[encoded data removed]",
      "text/plain": [
       "<Figure size 432x288 with 1 Axes>"
      ]
     },
     "metadata": {
      "needs_background": "light"
     },
     "output_type": "display_data"
    }
   ],
   "source": [
    "r = random.randint(0, len(mnist_test)- 1)\n",
    "X_single_data = mnist_test.test_data[r:r+1].view(-1, 28*28).float().to(device)\n",
    "Y_single_data = mnist_test.test_labels[r:r+1].to(device)\n",
    "\n",
    "print(\"Label: \", Y_single_data.item())\n",
    "\n",
    "single_prediction = linear(X_single_data)\n",
    "print(\"Prediction: \", torch.argmax(single_prediction, 1).item())\n",
    "\n",
    "plt.imshow(mnist_test.test_data[r:r+1].view(28, 28), cmap=\"Greys\", interpolation=\"nearest\")\n",
    "plt.show()"
   ]
  }
 ],
 "metadata": {
  "kernelspec": {
   "display_name": "Python 3 (ipykernel)",
   "language": "python",
   "name": "python3"
  },
  "language_info": {
   "codemirror_mode": {
    "name": "ipython",
    "version": 3
   },
   "file_extension": ".py",
   "mimetype": "text/x-python",
   "name": "python",
   "nbconvert_exporter": "python",
   "pygments_lexer": "ipython3",
   "version": "3.9.12"
  }
 },
 "nbformat": 4,
 "nbformat_minor": 5
}
